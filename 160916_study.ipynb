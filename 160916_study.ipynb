{
 "cells": [
  {
   "cell_type": "markdown",
   "metadata": {},
   "source": [
    "160916 清家\n",
    "# 機械学習勉強会資料#1：パーセプトロンの学習\n",
    "---\n",
    "## (1)モチベーション\n",
    "一度pythonやRを触って試したことがある方であれば，機械学習パッケージを使えば分類問題などを簡単に行うことができることがわかったと思いますし，優れたパッケージを使いこなすことが業務上では成果を出す１番手っ取り早いとは思います。\n",
    "しかしその上で，機械学習的な処理で何ができ，何ができないのかを知るためには，\n",
    "- ごく基礎的な理論については自分で理論（数式）を導くことができること\n",
    "- ごく基本的なアルゴリズムについては自分でプログラムを書くことができること\n",
    "\n",
    "も重要な要素だと個人的には思っています。\n",
    "\n",
    "そこで，ディープラーニングのーーーーーーーであるパーセプトロンについて，「わかる(概念理解)」「読める(数式導出)」「書ける(プログラムを作れる)」「使える(プログラムを動かせる)」レベルになりたい。そこで**書籍の写経を行います**。\n"
   ]
  },
  {
   "cell_type": "markdown",
   "metadata": {},
   "source": [
    "## (2)パーセプトロンとは\n",
    "参考URL①\n",
    "http://qiita.com/hshimo/items/e24b1fbfbf775ec7c941"
   ]
  },
  {
   "cell_type": "markdown",
   "metadata": {},
   "source": [
    "$$y = x$$\n",
    "test"
   ]
  },
  {
   "cell_type": "code",
   "execution_count": 2,
   "metadata": {},
   "outputs": [],
   "source": [
    "test = 11"
   ]
  },
  {
   "cell_type": "code",
   "execution_count": 3,
   "metadata": {},
   "outputs": [
    {
     "data": {
      "text/plain": [
       "11"
      ]
     },
     "execution_count": 3,
     "metadata": {},
     "output_type": "execute_result"
    }
   ],
   "source": [
    "test"
   ]
  },
  {
   "cell_type": "code",
   "execution_count": null,
   "metadata": {},
   "outputs": [],
   "source": []
  }
 ],
 "metadata": {
  "kernelspec": {
   "display_name": "Python 3",
   "language": "python",
   "name": "python3"
  },
  "language_info": {
   "codemirror_mode": {
    "name": "ipython",
    "version": 3
   },
   "file_extension": ".py",
   "mimetype": "text/x-python",
   "name": "python",
   "nbconvert_exporter": "python",
   "pygments_lexer": "ipython3",
   "version": "3.5.2"
  }
 },
 "nbformat": 4,
 "nbformat_minor": 0
}
