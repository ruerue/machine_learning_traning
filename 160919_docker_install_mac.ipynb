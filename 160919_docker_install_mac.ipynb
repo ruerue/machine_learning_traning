{
 "cells": [
  {
   "cell_type": "markdown",
   "metadata": {},
   "source": [
    "# 計算機環境の整備\n",
    "---\n",
    "私は自宅でmacを使用しているのでbrewを使ってそのままpython環境(jupyterやpip)をインストールしていますが，winではjupyterが使えるのか使えないのかよくわからない(自宅はwinが無い)ですし，パッケージのインストールが大変そう。**docker**を使ってその中で環境を整えれば統一した環境を作りやすいとのことなので（I-MS談），試みます。そして，書き足していきます。\n",
    "\n",
    "- https://kyamagu.github.io/dl-workshop-2016/0-docker-jupyter\n"
   ]
  },
  {
   "cell_type": "markdown",
   "metadata": {},
   "source": [
    "# dockerについて\n",
    "![docker_logo](./160919/docker_logo.png) \n",
    "私自身もよくわかっていません。仮想化のようで単なる仮想化ではないようです。とりあえず，jupyterに関してはホスト（いつも使っているPC）のブラウザ上で動作するので，あまり不便なく操作することができるかと思います。\n",
    "- dockerの概要: http://paiza.hatenablog.com/entry/docker_intro\n",
    "- dockerの使い方:http://qiita.com/voluntas/items/68c1fd04dd3d507d4083"
   ]
  },
  {
   "cell_type": "markdown",
   "metadata": {},
   "source": [
    "## docker ToolBoxのインストール\n",
    "会社のPCに入れることは色んな面でハードルが高いので，とりあえず家でやってみていただければと思います。  \n",
    "早い話，　  \n",
    "公式サイト: https://www.docker.com/products/docker-toolbox  \n",
    "のmac版をダウンロードし，実行するだけです。  途中で端末を訊かれましたが，おそらく何でもOKです。\n",
    "\n",
    "<<参考>>\n",
    "- mac: http://qiita.com/hshimo/items/e24b1fbfbf775ec7c941\n",
    "- win: http://docs.docker.jp/windows/step_one.html (やってみてないので知りません)\n"
   ]
  },
  {
   "cell_type": "markdown",
   "metadata": {},
   "source": [
    "## jupyterイメージの取り込み(python環境導入)\n",
    "dockerを使えば，誰かがjupyterを使うために整備してくれた環境まるごとインストールすることができます。  \n",
    "下記URLを参考にイメージの取り込みを行いました。何のパッケージが入っているか，今後確認していこうと思います。\n",
    "- http://qiita.com/kshigeru/items/2cd504e927869163b4c8"
   ]
  },
  {
   "cell_type": "markdown",
   "metadata": {},
   "source": [
    "# docker + jupyterの使用方法\n",
    "---\n",
    "最初あたふたします。dockerなるものを入れても仮想環境\n",
    "dockernを通してjupyterを起動したいものの，ファイルはローカルに保存しておきたいので，ローカルのファイルシステム（ホスト）とファイルを共有できるようなコンテナを作成します。\n",
    "\n",
    "> \n",
    "```\n",
    "docker run -d --name notebook_test -p 8888:8888 -v /Users/SEIKE/Dropbox/github/03_machine_learning_traning:/home/jovyan/work jupyter/datascience-notebook\n",
    "```\n",
    "\n"
   ]
  },
  {
   "cell_type": "code",
   "execution_count": null,
   "metadata": {
    "collapsed": true
   },
   "outputs": [],
   "source": []
  }
 ],
 "metadata": {
  "kernelspec": {
   "display_name": "Python 3",
   "language": "python",
   "name": "python3"
  },
  "language_info": {
   "codemirror_mode": {
    "name": "ipython",
    "version": 3
   },
   "file_extension": ".py",
   "mimetype": "text/x-python",
   "name": "python",
   "nbconvert_exporter": "python",
   "pygments_lexer": "ipython3",
   "version": "3.5.2"
  }
 },
 "nbformat": 4,
 "nbformat_minor": 0
}
