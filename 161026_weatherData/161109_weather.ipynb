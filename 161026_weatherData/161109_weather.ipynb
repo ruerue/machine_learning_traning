{
 "cells": [
  {
   "cell_type": "markdown",
   "metadata": {},
   "source": [
    "# Rによる気象データ収集\n",
    "---\n",
    "気象庁のデータをゲットする方法を考えます。気象庁サイトへのアクセス回数がかなり多くなるので，実行環境はお気をつけください。"
   ]
  },
  {
   "cell_type": "markdown",
   "metadata": {},
   "source": [
    "## 参考にしたサイト\n",
    "この場を借りてお礼申し上げます。\n",
    "- [気象庁|過去の気象データ検索](http://www.data.jma.go.jp/obd/stats/etrn/index.php)\n",
    "- [気象統計情報から過去の気象データを取得](https://gist.github.com/tayohei/2281631)\n",
    "- [月末日の取得 - My Life as a Mock Quant](http://d.hatena.ne.jp/teramonagi/20100224/1267021951)"
   ]
  },
  {
   "cell_type": "markdown",
   "metadata": {},
   "source": [
    "## パッケージのインストール\n",
    "XMLのデータを使えるようにすれば，ダウンロード可能になるようです。"
   ]
  },
  {
   "cell_type": "code",
   "execution_count": 95,
   "metadata": {
    "collapsed": false,
    "scrolled": true
   },
   "outputs": [
    {
     "name": "stderr",
     "output_type": "stream",
     "text": [
      "Updating HTML index of packages in '.Library'\n",
      "Making 'packages.html' ... done\n"
     ]
    }
   ],
   "source": [
    "install.packages(\"XML\", repos = \"http://cran.us.r-project.org\")"
   ]
  },
  {
   "cell_type": "markdown",
   "metadata": {},
   "source": [
    "docker中でもパッケージのインストールが無事できました。install.packages(\"XML\")　だけではダメでした。"
   ]
  },
  {
   "cell_type": "markdown",
   "metadata": {},
   "source": [
    "## ライブラリのインポート\n",
    "先程のXMLパッケージを使えるようにインポートします。"
   ]
  },
  {
   "cell_type": "code",
   "execution_count": 1,
   "metadata": {
    "collapsed": true
   },
   "outputs": [],
   "source": [
    "library(\"XML\")"
   ]
  },
  {
   "cell_type": "markdown",
   "metadata": {},
   "source": [
    "コンソールをリスタートする度に呼び出すようにします。"
   ]
  },
  {
   "cell_type": "markdown",
   "metadata": {},
   "source": [
    "### 各月の日数を取得\n",
    "[参考サイト](http://d.hatena.ne.jp/teramonagi/20100224/1267021951)ほぼそのままです。毎月算出する点と日数以外に興味が無い点から，関数にしてしまいます。"
   ]
  },
  {
   "cell_type": "code",
   "execution_count": 97,
   "metadata": {
    "collapsed": true
   },
   "outputs": [],
   "source": [
    "dayPerMonth <- function(date_)\n",
    "{\n",
    "    #該当月の月初日\n",
    "    startOfMonth <- as.Date(format(date_,\"%Y%m01\"),\"%Y%m%d\")\n",
    "    #次月の月初日\n",
    "    startOfNextMonth <- as.Date(format(startOfMonth+31,\"%Y%m01\"),\"%Y%m%d\")\n",
    "    #一日前が該当月の月末日\n",
    "    return(as.numeric(startOfNextMonth-startOfMonth))\n",
    "    #    return(startOfNextMonth-1)\n",
    "}"
   ]
  },
  {
   "cell_type": "markdown",
   "metadata": {},
   "source": [
    "試してみます。"
   ]
  },
  {
   "cell_type": "code",
   "execution_count": 98,
   "metadata": {
    "collapsed": false
   },
   "outputs": [
    {
     "data": {
      "text/html": [
       "31"
      ],
      "text/latex": [
       "31"
      ],
      "text/markdown": [
       "31"
      ],
      "text/plain": [
       "[1] 31"
      ]
     },
     "metadata": {},
     "output_type": "display_data"
    }
   ],
   "source": [
    "dayPerMonth(as.Date(\"2016-10-01\"))"
   ]
  },
  {
   "cell_type": "markdown",
   "metadata": {},
   "source": [
    "OKです。"
   ]
  },
  {
   "cell_type": "markdown",
   "metadata": {},
   "source": [
    "## メイン部分\n",
    "急に説明するのが面倒になってきました笑"
   ]
  },
  {
   "cell_type": "code",
   "execution_count": 102,
   "metadata": {
    "collapsed": false
   },
   "outputs": [],
   "source": [
    "freq = \"10min\" # \"daily\" or \"hourly\" or \"10min\", \n",
    "prec_no = \"44\"\n",
    "block = \"47662\"\n",
    "year = \"2013\"\n",
    "#month = \"06\"\n",
    "months = 12\n",
    "#day = 24\n",
    "dataType = 10\n",
    "\n",
    "if(freq == \"10min\"){\n",
    "    firstTime = \" 00:10:00\"\n",
    "}else if(freq == \"hourly\"){\n",
    "    firstTime = \" 01:00:00\"\n",
    "}else{\n",
    "    firstTime = \" 00:00:00\"\n",
    "};\n",
    "\n",
    "#Data <- matrix(nrow = dataType, ncol = 1)\n",
    "Data <- NULL;\n",
    "for(month in 1 : months){\n",
    "    days = dayPerMonth(as.Date(paste(year, \"-\",month,\"-01\", sep=\"\")))\n",
    "    for (day in 1 : days){\n",
    "        url <- \"http://www.data.jma.go.jp/obd/stats/etrn/view/\";\n",
    "        url <- paste(url, freq,\"_s1.php?prec_no=\",prec_no,\"&block_no=\",block,\"&year=\",year,\"&month=\",month,\"&day=\",day,\"&view=\",sep=\"\");\n",
    "        tmp <- xpathSApply(htmlParse(url,encoding=\"UTF-8\"),'//td[@class=\"data_0_0\"]',xmlValue);\n",
    "        tmp <- t(matrix(tmp, dataType, length(tmp)/dataType));\n",
    "        dayTime <- as.POSIXlt(paste(year,\"-\",month,\"-\",day,firstTime, sep=\"\")) + seq(0,(24*60*60)-1,by=600);\n",
    "        date <- format(dayTime, \"%Y-%m-%d\")\n",
    "        time <- format(dayTime, \"%H:%M:%S\")\n",
    "        tmp <- cbind(time,tmp);\n",
    "        tmp <- cbind(date,tmp);\n",
    "        Data <- rbind(Data, tmp);\n",
    "    }\n",
    "}\n",
    "colnames(Data) <- c(\"Date\",\"Time\", \"local pressure\", \"Sea-level pressure\", \"Precipitation\", \"Temperature\",\"Relative humidity\", \"Average wind speed\", \"Wind direction of the average wind speed\", \"Maximum wind speed moment\", \"Wind direction of the maximum wind speed moment\",\"Minutes of sunlight\" )"
   ]
  },
  {
   "cell_type": "code",
   "execution_count": 103,
   "metadata": {
    "collapsed": false
   },
   "outputs": [],
   "source": [
    "write.csv(Data, \"test.csv\", quote=FALSE, row.names=FALSE,fileEncoding='CP932')"
   ]
  },
  {
   "cell_type": "code",
   "execution_count": null,
   "metadata": {
    "collapsed": true
   },
   "outputs": [],
   "source": []
  },
  {
   "cell_type": "code",
   "execution_count": null,
   "metadata": {
    "collapsed": true
   },
   "outputs": [],
   "source": []
  },
  {
   "cell_type": "code",
   "execution_count": 1,
   "metadata": {
    "collapsed": true
   },
   "outputs": [],
   "source": [
    "library(\"XML\")"
   ]
  },
  {
   "cell_type": "code",
   "execution_count": 2,
   "metadata": {
    "collapsed": true
   },
   "outputs": [],
   "source": [
    "dayPerMonth <- function(date_)\n",
    "{\n",
    "    #該当月の月初日\n",
    "    startOfMonth <- as.Date(format(date_,\"%Y%m01\"),\"%Y%m%d\")\n",
    "    #次月の月初日\n",
    "    startOfNextMonth <- as.Date(format(startOfMonth+31,\"%Y%m01\"),\"%Y%m%d\")\n",
    "    #一日前が該当月の月末日\n",
    "    return(as.numeric(startOfNextMonth-startOfMonth))\n",
    "    #    return(startOfNextMonth-1)\n",
    "}"
   ]
  },
  {
   "cell_type": "code",
   "execution_count": 3,
   "metadata": {
    "collapsed": false
   },
   "outputs": [],
   "source": [
    "#prec_no = \"44\"\n",
    "#block = \"47662\"\n",
    "#year = \"2013\"\n",
    "\n",
    "meteorology_csv_writer <- function(prec_no_, block_, year_)\n",
    "{\n",
    "    freq = \"10min\" # \"daily\" or \"hourly\" or \"10min\", \n",
    "    months = 12\n",
    "    dataType = 10\n",
    "    if(freq == \"10min\"){\n",
    "        firstTime = \" 00:10:00\"\n",
    "    }else if(freq == \"hourly\"){\n",
    "        firstTime = \" 01:00:00\"\n",
    "    }else{\n",
    "        firstTime = \" 00:00:00\"\n",
    "    };\n",
    "    title = paste(prec_no_,\"_\", block_,\"_\",year_,\".csv\",  sep = \"\")\n",
    "    \n",
    "    Data <- NULL;\n",
    "    for(month in 1 : months){\n",
    "        days = dayPerMonth(as.Date(paste(year, \"-\",month,\"-01\", sep=\"\")))\n",
    "        for (day in 1 : days){\n",
    "            url <- \"http://www.data.jma.go.jp/obd/stats/etrn/view/\";\n",
    "            url <- paste(url, freq,\"_s1.php?prec_no=\",prec_no_,\"&block_no=\",block_,\"&year=\",year_,\"&month=\",month,\"&day=\",day,\"&view=\",sep=\"\");\n",
    "            tmp <- xpathSApply(htmlParse(url,encoding=\"UTF-8\"),'//td[@class=\"data_0_0\"]',xmlValue);\n",
    "            tmp <- t(matrix(tmp, dataType, length(tmp)/dataType));\n",
    "            dayTime <- as.POSIXlt(paste(year,\"-\",month,\"-\",day,firstTime, sep=\"\")) + seq(0,(24*60*60)-1,by=600);\n",
    "            date <- format(dayTime, \"%Y-%m-%d\")\n",
    "            time <- format(dayTime, \"%H:%M:%S\")\n",
    "            tmp <- cbind(time,tmp);\n",
    "            tmp <- cbind(date,tmp);\n",
    "            Data <- rbind(Data, tmp);\n",
    "        }\n",
    "    }\n",
    "    colnames(Data) <- c(\"Date\",\"Time\", \"local pressure\", \"Sea-level pressure\", \"Precipitation\", \"Temperature\",\"Relative humidity\", \"Average wind speed\", \"Wind direction of the average wind speed\", \"Maximum wind speed moment\", \"Wind direction of the maximum wind speed moment\",\"Minutes of sunlight\" )\n",
    "    write.csv(Data, title, quote=FALSE, row.names=FALSE,fileEncoding='CP932')\n",
    "}"
   ]
  },
  {
   "cell_type": "code",
   "execution_count": 4,
   "metadata": {
    "collapsed": false
   },
   "outputs": [],
   "source": [
    "# 札幌　仙台　東京　名古屋　大阪　広島　福岡　那覇\n",
    "precs = c(\"14\", \"34\",\"44\",\"51\",\"62\",\"67\",\"82\",\"91\")\n",
    "blocks =c(\"47412\",\"47590\",\"47662\",\"47636\",\"47772\",\"47765\",\"47807\",\"47936\")\n",
    "year = \"2015\"\n",
    "for(i in 1: 8){\n",
    "#    print(paste(precs[i],\"_\", blocks[i],\"_\",year,\".csv\",  sep = \"\"))\n",
    "    meteorology_csv_writer(precs[i], blocks[i], year)\n",
    "}\n",
    "\n",
    "#title = paste(prec_no,\"_\", block,\"_\",year,\".csv\",  sep = \"\")\n",
    "\n",
    "#meteorology_csv_writer(prec_no, block, year)"
   ]
  },
  {
   "cell_type": "code",
   "execution_count": null,
   "metadata": {
    "collapsed": true
   },
   "outputs": [],
   "source": []
  }
 ],
 "metadata": {
  "kernelspec": {
   "display_name": "R",
   "language": "R",
   "name": "ir"
  },
  "language_info": {
   "codemirror_mode": "r",
   "file_extension": ".r",
   "mimetype": "text/x-r-source",
   "name": "R",
   "pygments_lexer": "r",
   "version": "3.3.1"
  }
 },
 "nbformat": 4,
 "nbformat_minor": 0
}
