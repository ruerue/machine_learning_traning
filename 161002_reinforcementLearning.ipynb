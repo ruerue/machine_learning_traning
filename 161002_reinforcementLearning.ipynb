{
 "cells": [
  {
   "cell_type": "markdown",
   "metadata": {},
   "source": [
    "# 強化学習メモ\n",
    "---\n",
    "### 強化学習とは\n",
    "- エージェントが環境の中でどう振る舞えばよいかを学習する ことを可能にするようなアルゴリズム(藤田 康博 修士論文)\n",
    "- ある環境内におけるエージェントが、現在の状態を観測し、取るべき行動を決定する問題を扱う機械学習の一種。エージェントは行動を選択することで環境から報酬を得る。強化学習は一連の行動を通じて報酬が最も多く得られるような方策(policy)を学習する(wiki)。\n",
    "- [教科学習とは](http://sysplan.nams.kyushu-u.ac.jp/gen/edu/RL_intro.html#Section1)(九州大　木村元)\n",
    "\n",
    "### エージェントとは\n",
    "- 学習者または意思決定者(web)\n",
    "- [エージェントとは](http://aidiary.hatenablog.com/entry/20020723/1111644735)   \n",
    "分類等\n",
    "\n",
    "### マルコフ決定過程とは\n"
   ]
  },
  {
   "cell_type": "markdown",
   "metadata": {},
   "source": []
  }
 ],
 "metadata": {
  "kernelspec": {
   "display_name": "Python 3",
   "language": "python",
   "name": "python3"
  },
  "language_info": {
   "codemirror_mode": {
    "name": "ipython",
    "version": 3
   },
   "file_extension": ".py",
   "mimetype": "text/x-python",
   "name": "python",
   "nbconvert_exporter": "python",
   "pygments_lexer": "ipython3",
   "version": "3.5.2"
  }
 },
 "nbformat": 4,
 "nbformat_minor": 0
}
