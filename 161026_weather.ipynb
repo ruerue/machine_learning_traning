{
 "cells": [
  {
   "cell_type": "markdown",
   "metadata": {},
   "source": [
    "# Rによる気象データ収集\n",
    "---\n",
    "気象庁のデータをゲットする方法を考えます。"
   ]
  },
  {
   "cell_type": "markdown",
   "metadata": {},
   "source": [
    "## 参考にしたサイト\n",
    "この場を借りて。\n",
    "- [気象統計情報から過去の気象データを取得](https://gist.github.com/tayohei/2281631)"
   ]
  },
  {
   "cell_type": "markdown",
   "metadata": {},
   "source": [
    "## パッケージのインストール\n",
    "XMLのデータを使えるようにしてみます。"
   ]
  },
  {
   "cell_type": "code",
   "execution_count": 12,
   "metadata": {
    "collapsed": false,
    "scrolled": true
   },
   "outputs": [
    {
     "name": "stderr",
     "output_type": "stream",
     "text": [
      "Updating HTML index of packages in '.Library'\n",
      "Making 'packages.html' ... done\n"
     ]
    }
   ],
   "source": [
    "install.packages(\"XML\", repos = \"http://cran.us.r-project.org\")"
   ]
  },
  {
   "cell_type": "markdown",
   "metadata": {},
   "source": [
    "docker中でのパッケージのインストールが無事できました。install.packages(\"XML\")　だけではダメでした。"
   ]
  },
  {
   "cell_type": "markdown",
   "metadata": {},
   "source": [
    "できたところで，とりあえず1のプログラムを動かしてみます。"
   ]
  },
  {
   "cell_type": "code",
   "execution_count": 15,
   "metadata": {
    "collapsed": false
   },
   "outputs": [],
   "source": [
    "# https://gist.github.com/tayohei/2281631\n",
    "# より。\n",
    "\n",
    "# 気象庁の気象統計情報の過去の気象データを引っ張ってくる。（月単位）\n",
    "# 観測地点の block_no と年月が必要、block_idは下記URLから\n",
    "# http://www.data.jma.go.jp/obd/stats/etrn/index.php\n",
    "# 県→地域と選択した時のURLパラメータのblock_noを利用\n",
    "# windows以外だと文字化けるかも。\n",
    "\n",
    "library(\"XML\")\n",
    "\n",
    "getWeather <- function(block,year,month,addDate=T){\n",
    "    # 気象庁からデータを引っ張ってくる\n",
    "    # args\n",
    "    #\tblock: 観測所のID\n",
    "    #\tyear : 年（1872～）\n",
    "    #\tmonth: 月（1-12）\n",
    "    #\taddDate:出力データに日付の列を追加する\n",
    "    # return\n",
    "    #\t引っ張ってきた表のdata.frame形式\n",
    "    url <- \"http://www.data.jma.go.jp/obd/stats/etrn/view/daily_s1.php\";\n",
    "    url <- paste(url,\"?block_no=\",block,\"&year=\",year,\"&month=\",month,\"&elm=daily\",sep=\"\");\n",
    "    tmp <- xpathSApply(htmlParse(url,encoding=\"UTF-8\"),'//td[@class=\"data_0_0\"]',xmlValue);\n",
    "    tmp <- data.frame(matrix(tmp,ncol=20,byrow=T));\n",
    "    # 決め打ちで数値の列は数値に変換\n",
    "    numcol = c(1:12,14,16:18);\n",
    "    for(i in numcol){\n",
    "        tmp[,i] <- as.numeric(as.character(sub(\"]|)\",\"\",tmp[,i])));\n",
    "    }\n",
    "    # 列名つける\n",
    "    colnames(tmp) <- c(\n",
    "        'press.land','press.sea',\n",
    "        'rain.sum','rain.max1h','rain.max10m',\n",
    "        'temp.ave','temp.max','temp.min',\n",
    "        'hygro.ave','hygro.min',\n",
    "        'wind.ave','wind.max.v','wind.max.d','wind.max_d.v','wind.max_d.d',\n",
    "        'daylight',\n",
    "        'snow.sum','snow.depth',\n",
    "        'weather.am','weather.pm'\n",
    "    );\n",
    "    if(addDate){\n",
    "        tmp <- cbind(\n",
    "            year*10000+month*100+(1:nrow(tmp)),\n",
    "            tmp\n",
    "        );\n",
    "        colnames(tmp)[1] <- \"date\";\n",
    "    }\n",
    "    return(tmp);\n",
    "}\n",
    "\n",
    "\n",
    "getWeatherAB <- function(block,a.year,a.month,b.year,b.month,addDate=T){\n",
    "    # 指定した期間での気象情報を出力\n",
    "    # args\n",
    "    #\tblock: 観測所のID\n",
    "    #\ta.year : 開始年（1872～）,\ta.month: 月（1-12）\n",
    "    #\tb.year : 終了年（1872～）,\tb.month: 月（1-12）\n",
    "    #\taddDate: 結果に日付列を追加するかどうか？\n",
    "    # return\n",
    "    #\t引っ張ってきた表のdata.frame形式を繋げた形\n",
    "    if( (a.year*100+a.month)>(b.year*100+b.month) ){\n",
    "        stop(\"開始よりも終了が前になってます\");\n",
    "    }\n",
    "    tmp <- NULL;\n",
    "    while(a.year<=b.year && a.month<=b.month){\n",
    "        print(a.year*100+a.month);\n",
    "        tmp <- rbind(tmp,getWeather(block,a.year,a.month,addDate));\n",
    "        if(a.month==12){\n",
    "            a.year  <- a.year+1;\n",
    "            a.month <- 1;\n",
    "        }else{\n",
    "            a.month <- a.month+1;\n",
    "        }\n",
    "    }\n",
    "    return(tmp);\n",
    "}\n",
    "\n",
    "SensibleTemp <- function(t,h){\n",
    "    # おまけ、体感温度（ミスナールの体感温度）\n",
    "    # args\n",
    "    #\tt : 気温\n",
    "    #\th : 湿度\n",
    "    return((t-1/2.3)*(t-10)*(0.8-h/100));\n",
    "}\n",
    "\n",
    "DiscomfortIndex <-function(t,h,cut=F){\n",
    "    # おまけ、不快指数\n",
    "    # args\n",
    "    #\tt : 気温\n",
    "    #\th : 湿度\n",
    "    #\tcut : １～８までに分けるかどうたら。\n",
    "    if(cut){\n",
    "        return(cut(breaks=c(0,55,60,65,70,75,80,85,100),50:95,1:8));\n",
    "    }else{\n",
    "        return(0.81*t+0.01*h*(0.99*t-14.3)+46.3);\n",
    "    }\n",
    "}"
   ]
  },
  {
   "cell_type": "code",
   "execution_count": null,
   "metadata": {
    "collapsed": true
   },
   "outputs": [],
   "source": []
  }
 ],
 "metadata": {
  "kernelspec": {
   "display_name": "R",
   "language": "R",
   "name": "ir"
  },
  "language_info": {
   "codemirror_mode": "r",
   "file_extension": ".r",
   "mimetype": "text/x-r-source",
   "name": "R",
   "pygments_lexer": "r",
   "version": "3.3.1"
  }
 },
 "nbformat": 4,
 "nbformat_minor": 0
}
