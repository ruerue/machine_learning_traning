{
 "cells": [
  {
   "cell_type": "markdown",
   "metadata": {},
   "source": [
    "# 機械学習プログラミングについて\n",
    "---\n",
    "ぼかしながら書きますが，ビックデータ分析の活動を推進するためには，次のやり方が考えられます。\n",
    "\n",
    "1. 外部に委託する。\n",
    "- \n",
    "\n",
    "最新の機械学習の手法を行うためにはデータを分析できるようにプログラム自分で動かさなければいけません。ただし，機械学習のアルゴリズムをプログラミングで作成する機会はほとんど無いと思います。それはなぜかというと，ほとんどの機械学習のアルゴリズムは常にパッケージとして公開され続けているからです。つまり\n"
   ]
  },
  {
   "cell_type": "markdown",
   "metadata": {},
   "source": [
    "# python について\n",
    "---\n",
    "\n",
    "pythonとはプログラミング言語の一つです。私がPythonを触り始めたのはここ半年くらいなので偉そうな事は書けませんが，逆に初めての人に近い立場から文章を書けるかもしれません。\n",
    "![python_logo](./160930/python_logo.png) \n",
    "機械学習勉強会で使う(今後，活用する)プログラミング言語を選定する観点は主に下記かと思います。\n",
    "\n",
    "1. 機械学習の本で使われている。\n",
    "- 機械学習用のパッケージが充実し，かつ簡便に使える。\n",
    "- インストールや環境設定が簡単。\n",
    "- プログラミングの敷居が低く，かつ計算速度上問題ない。\n",
    "\n",
    "本屋さんに行けばわかると思いますが，1から，「R」 か「Python」に絞られます。3,4の点では「R」の方が便利かもしれませんが，ディープラーニングに関しては2の点で「Python」が最適かと思います。\n",
    "- [Pythonや機械学習、そして言語の競争について – 極めて主観的な見地から](http://postd.cc/python-machine-learning-and-language-wars-a-highly-subjective-point-of-view/)   \n",
    "まさに主観的な記事ですが，「Pythonはなんとなくゆとりっぽい」と思っていた僕にとっては非常に面白い記事でした。\n",
    "- [wikipedia Python](https://ja.wikipedia.org/wiki/Python)    \n",
    "気が向いたら教養として見ます。\n",
    "- [初心者でも今すぐ機械学習・ディープラーニングの勉強を始められるスライド11](http://paiza.hatenablog.com/entry/2016/06/29/%E5%88%9D%E5%BF%83%E8%80%85%E3%81%A7%E3%82%82%E4%BB%8A%E3%81%99%E3%81%90%E6%A9%9F%E6%A2%B0%E5%AD%A6%E7%BF%92%E3%83%BB%E3%83%87%E3%82%A3%E3%83%BC%E3%83%97%E3%83%A9%E3%83%BC%E3%83%8B%E3%83%B3%E3%82%B0)    \n",
    "こちらも気が向いたら（自分用メモ）。\n",
    "\n"
   ]
  },
  {
   "cell_type": "markdown",
   "metadata": {},
   "source": [
    "# jupyterについて\n",
    "私はこれでpythonを扱っています。別にjupyterでなくても良いとは思いますが，メモ書きしながらプログラミングができるので，複数人でいじったり他人に見せたりするには良いと思います。この文書自体jupyterで作っていますし，jupyterで書籍を作成してgithub上で公開している人もいます。\n",
    "![jupyter_logo](./160919/jupyter_logo.png) \n",
    "- jupyterの概要: http://techlife.cookpad.com/entry/write-once-share-anywhare\n",
    "- jupyterにより作成された書籍: https://github.com/CamDavidsonPilon/Probabilistic-Programming-and-Bayesian-Methods-for-Hackers"
   ]
  },
  {
   "cell_type": "markdown",
   "metadata": {},
   "source": [
    "# pythonのインストール\n",
    "---\n",
    "インストールは環境設定とともに[別のページ](https://github.com/ruerue/machine_learning_traning/blob/master/160919_docker_install_mac.ipynb)にて紹介しています。\n",
    "\n"
   ]
  },
  {
   "cell_type": "code",
   "execution_count": null,
   "metadata": {
    "collapsed": true
   },
   "outputs": [],
   "source": []
  },
  {
   "cell_type": "markdown",
   "metadata": {},
   "source": [
    "# python入門\n",
    "---\n",
    "\n",
    "pythonが無事使える前提で，pythonの使い方を。これも書籍の写経です。   \n",
    "書籍:[Pythonで体験する深層学習](https://www.amazon.co.jp/Python%E3%81%A7%E4%BD%93%E9%A8%93%E3%81%99%E3%82%8B-%E6%B7%B1%E5%B1%A4%E5%AD%A6%E7%BF%92-%E6%B5%85%E5%B7%9D-%E4%BC%B8%E4%B8%80/dp/4339028517)\n",
    "\n",
    "\n",
    "# Tips\n"
   ]
  },
  {
   "cell_type": "code",
   "execution_count": null,
   "metadata": {
    "collapsed": true
   },
   "outputs": [],
   "source": []
  },
  {
   "cell_type": "code",
   "execution_count": null,
   "metadata": {
    "collapsed": true
   },
   "outputs": [],
   "source": []
  },
  {
   "cell_type": "markdown",
   "metadata": {},
   "source": [
    "### 基本\n",
    "- 数字の計算"
   ]
  },
  {
   "cell_type": "code",
   "execution_count": 1,
   "metadata": {
    "collapsed": false
   },
   "outputs": [
    {
     "data": {
      "text/plain": [
       "2"
      ]
     },
     "execution_count": 1,
     "metadata": {},
     "output_type": "execute_result"
    }
   ],
   "source": [
    "1+1"
   ]
  },
  {
   "cell_type": "markdown",
   "metadata": {},
   "source": [
    "- 代数計算"
   ]
  },
  {
   "cell_type": "code",
   "execution_count": 2,
   "metadata": {
    "collapsed": true
   },
   "outputs": [],
   "source": [
    "a = 1\n",
    "b = 3\n",
    "c = a + b"
   ]
  },
  {
   "cell_type": "code",
   "execution_count": 3,
   "metadata": {
    "collapsed": false
   },
   "outputs": [
    {
     "data": {
      "text/plain": [
       "4"
      ]
     },
     "execution_count": 3,
     "metadata": {},
     "output_type": "execute_result"
    }
   ],
   "source": [
    "c"
   ]
  },
  {
   "cell_type": "markdown",
   "metadata": {},
   "source": [
    "### データ型\n",
    "下記にそれぞれ空の要素をもつ宣言方法を示します。夫々の意味/使い方は調べてください。"
   ]
  },
  {
   "cell_type": "code",
   "execution_count": 4,
   "metadata": {
    "collapsed": false
   },
   "outputs": [
    {
     "name": "stdout",
     "output_type": "stream",
     "text": [
      "aの型は <class 'tuple'>\n",
      "bの型は <class 'list'>\n",
      "cの型は <class 'dict'>\n",
      "dの型は <class 'set'>\n"
     ]
    }
   ],
   "source": [
    "a = (); b = []; c = {}; d = {''}; e = {'':''}\n",
    "print('aの型は', type(a))\n",
    "print('bの型は', type(b))\n",
    "print('cの型は', type(c))\n",
    "print('dの型は', type(d))"
   ]
  },
  {
   "cell_type": "code",
   "execution_count": null,
   "metadata": {
    "collapsed": true
   },
   "outputs": [],
   "source": []
  },
  {
   "cell_type": "code",
   "execution_count": null,
   "metadata": {
    "collapsed": true
   },
   "outputs": [],
   "source": []
  }
 ],
 "metadata": {
  "kernelspec": {
   "display_name": "Python 3",
   "language": "python",
   "name": "python3"
  },
  "language_info": {
   "codemirror_mode": {
    "name": "ipython",
    "version": 3
   },
   "file_extension": ".py",
   "mimetype": "text/x-python",
   "name": "python",
   "nbconvert_exporter": "python",
   "pygments_lexer": "ipython3",
   "version": "3.5.2"
  }
 },
 "nbformat": 4,
 "nbformat_minor": 0
}
