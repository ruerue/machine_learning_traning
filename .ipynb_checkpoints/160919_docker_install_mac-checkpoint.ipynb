{
 "cells": [
  {
   "cell_type": "markdown",
   "metadata": {},
   "source": [
    "# dockerのインストールとjupyterについて\n",
    "---\n",
    "私は自宅でmacを使用しているのでbrewを使ってそのままpython環境(jupyterやpip)をインストールしていますが，winではjupyterが使えるのか使えないのかよくわからない(自宅はwinが無い)ので，**docker**をインストールしてその中で環境を整えれば統一した環境を作りやすいようです。\n",
    "\n",
    "\n",
    "\n",
    "- dockerのインストール(mac)\n",
    "http://qiita.com/hshimo/items/e24b1fbfbf775ec7c941\n",
    "\n",
    "- test\n",
    "\n"
   ]
  },
  {
   "cell_type": "markdown",
   "metadata": {},
   "source": [
    "### dockerについて\n",
    "- docker\n",
    "http://paiza.hatenablog.com/entry/docker_intro"
   ]
  },
  {
   "cell_type": "markdown",
   "metadata": {},
   "source": [
    "### コンテナの作成\n",
    "---\n",
    "dockernを通してjupyterを起動したいものの，ファイルはローカルに保存しておきたいので，ローカルのファイルシステム（ホスト）とファイルを共有できるようなコンテナを作成します。\n",
    "\n",
    "```bash:bash\n",
    "docker run -d --name notebook_test -p 8888:8888 -v /Users/SEIKE/Dropbox/github/03_machine_learning_traning:/home/jovyan/work jupyter/datascience-notebook\n",
    "```\n",
    "\n",
    "\n"
   ]
  },
  {
   "cell_type": "code",
   "execution_count": null,
   "metadata": {
    "collapsed": true
   },
   "outputs": [],
   "source": []
  }
 ],
 "metadata": {
  "kernelspec": {
   "display_name": "Python 3",
   "language": "python",
   "name": "python3"
  },
  "language_info": {
   "codemirror_mode": {
    "name": "ipython",
    "version": 3
   },
   "file_extension": ".py",
   "mimetype": "text/x-python",
   "name": "python",
   "nbconvert_exporter": "python",
   "pygments_lexer": "ipython3",
   "version": "3.5.2"
  }
 },
 "nbformat": 4,
 "nbformat_minor": 0
}
