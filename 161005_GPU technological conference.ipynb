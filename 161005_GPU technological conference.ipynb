{
 "cells": [
  {
   "cell_type": "markdown",
   "metadata": {},
   "source": [
    "# GPU technological conference\n",
    "---\n",
    "### 概要\n",
    "日時：2016-10-05   \n",
    "会場：ヒルトン東京台場   \n",
    "主催：nVIDIA\n",
    "\n",
    "### 聴講題目\n",
    "10:00-11:40  **基調講演**,　NVIDIA共同創業者CEO jen-Hsun-Huang\n",
    "11:40-13:00 **ポスターセッション**\n",
    "13:10-13:35 **Visualization,医療への貢献**, EIZO\n",
    "13:45-14:10 **大規模進化計算による音声認識システム開発の自動化**, 東京工業大学 篠崎隆宏\n",
    "14:20-14:45 **日立の人工知能への取り組み**, 日立製作所\n",
    "15:00-16:30 **chainerによるディープラーニングモデル作成入門**, エヌビディア合同会社\n",
    "16:55-17:20 **MARLABで始めるGPUコンピューティング**, MathWorks\n",
    "17:30-17:55 **Deep learning applications for IOT**, NVIIDIA Aidrew Cresci\n",
    "18:05-18:30 **デジタルソリューションを活用した新しい建築設計**, 隈研吾建築都市設計事務所\n",
    "18:40-19:05 **時系列センサデータのディープラーニングによる異常検知**, マクニカクラビスカンパニー\n",
    "19:15-19:40 **Deep leaning for Industry**, クロスコンパスインテリジェンス"
   ]
  },
  {
   "cell_type": "markdown",
   "metadata": {},
   "source": [
    "# 基調講演\n",
    "---\n",
    "発表者：NVIDIA共同創業者CEO jen-Hsun-Huang\n",
    "会場人数：７人×12列×8ブロックが超満員(立ち見・サテライト会場あり)   \n",
    "VIP人数:Press約50人, 文部科学省9人, 経済産業省3人, 産業総合1人"
   ]
  },
  {
   "cell_type": "markdown",
   "metadata": {},
   "source": [
    "## 講演要旨と感想\n",
    "### コンピューティングとnVIDIAの変遷\n",
    "- ①PC+インターネットの時代 → ②モバイルコンピューティングの時代 →③クラウドコンピューティング+人工知能の時代\n",
    "- ③は，GPU+Deep Learningnにより始まった。\n",
    "- パターン認識は人間の知能の基本であったが，脳は演算負荷が高すぎた。\n",
    "- CUDAをもとにしたGPGPUによる対象物認識のブレイクスルー：数十年かけたプログラミングに数日間の学習で勝った。\n",
    "- 「アレックスネット」「ISPがDNNを採用」\n",
    "- 現在，画像認識・音声認識が人間同等以上のスコアとなり，GPGPU・DNNの舞台は整った。\n",
    "- アイアンマンの映画を引き合いに出し，「もはやSFではない」\n",
    "- nVIDIAは，HPC → ビジュアルコンピューティング → AI と，生まれ変わってきた。\n",
    "- DNN開発者はここ2年で25倍に拡大している。\n",
    "- 脳は小さなプロセッサが大量に計算しているGPU"
   ]
  },
  {
   "cell_type": "markdown",
   "metadata": {},
   "source": [
    "### DNNの学習ステップ\n",
    "1. モデル作成\n",
    "- 推論\n",
    "- デバイス\n",
    "- 学習\n"
   ]
  },
  {
   "cell_type": "markdown",
   "metadata": {},
   "source": [
    "### DNNに関して\n",
    "- 新しいコンピューティング\n",
    "    → ** これまでのプログラマも我々と同様に戸惑っているのでは？**\n",
    "-　end to end で全てのデバイスを繋げる必要がある。\n",
    "- 世界中の情報を取り入れることで現在は過成長の段階である。\n",
    "    → ** 閉じた社内の情報と世界中で使われている情報の品質は？閉じるだけではダメ **\n",
    "- 推論処理はデータセンターで行う。\n",
    "- DNNは非常に複雑化している。\n",
    "    → ** 常に先端・異端の王道を捉えることが必要ではないか **"
   ]
  },
  {
   "cell_type": "markdown",
   "metadata": {},
   "source": [
    "### パターン認識意外について\n",
    "- 画像・映像を有名画家のスタイルに適用することができる。"
   ]
  },
  {
   "cell_type": "markdown",
   "metadata": {},
   "source": [
    "### DNNに関する各社の取り組み\n",
    "- クラウドから始めることもでき，　１５００社以上のスタートアップでnVIDIAを選択している。\n",
    "- chainerは世界有数の組織。\n",
    "- 楽天はレコメンデーションシステムで使用。\n",
    "- みずほ銀行では金融予測精度を大きく飛躍させた。\n",
    "- abejaでは，顧客分析に使用。\n",
    "- AOI\n",
    "- ホームカメラで妻が帰ってきたことを認識し，鍵をあける。\n",
    "- マイクを付ければロボットに"
   ]
  },
  {
   "cell_type": "markdown",
   "metadata": {},
   "source": [
    "### ロボットについて\n",
    "- 日本はロボット革命の震源地\n",
    "- toyota iit enroute 国立大学など多数の組織で取り組んでいる。\n",
    "- 最も重要な会社がFANAC"
   ]
  },
  {
   "cell_type": "markdown",
   "metadata": {},
   "source": [
    "### FANACでの人工知能に関する取り組み\n",
    "- 未来の構造建築にNVIDIA AI プラットフォームを選択。\n",
    "- プログラムを書かなくて良い。\n"
   ]
  },
  {
   "cell_type": "markdown",
   "metadata": {},
   "source": [
    "もっとも重要な会社がFANAC\n",
    "未来の工場構築がnvidia AI  プラットフォームを選択。\n",
    "プラグラムを書かなくてもよい。\n",
    "ひとつの人工知能につな得る。\n",
    "画像\n",
    "\n",
    "ロボット字体もAIを搭載。\n",
    "FANACビデオ紹介。\n",
    "物を運んでいる。\n",
    "\n",
    "予知保全\n",
    "\n",
    "## ファナック\n",
    "消費者を考えて\n",
    "将来、どういった製品が人気になるかわからない。\n",
    "ロボットと話しながらつくる。\n",
    "### 設計と比較して製造のちからが重要視されている\n",
    "将来的には多くのロボットが協力して多くのスキルを得ることができれば\n",
    "「やさしく触る」などプログラムを書くのは難しい。\n",
    "すべての製造プロセスをロボットを使っていきいた\n",
    "・コネ口火ティ\n",
    "・オールマイティ（多機能）\n",
    "・AI\n",
    "どうやってスマートファクトリを現実にするか\n",
    "工場内で実行したい。\n",
    "違い；応答時間が早いことが必要。（複数台のロボットが高速に認識して実行する）\n",
    "非常に多くの農民素がある。\n",
    "→ソフトウェアのプログラムが書けない。→\n",
    "コラボレーション型のロボットが必要\n",
    "工場が確信され得るだけでなく、他業界（重工業など）に対して\n",
    "自動車が５０％。他のセグメントは小さい→多くの可能性がある。\n",
    "\n",
    "##  もどり\n",
    "### 自動走行車について\n",
    "自動車・ロボの中心は日本\n",
    "AIトランスポーテーション：1000兆円規模\n",
    "自動運転スキルは非常に難しい。シナリオが多すぎる。\n",
    "\n",
    "AIの使い方\n",
    "１．認識する（画像）\n",
    "２．推論する（自分が何処にいるのか、何をすべきなのか）。\n",
    "３．ドライビング\n",
    "\n",
    "DRIVE PX 2\n",
    "自動運転AutoCruise\n",
    "家に帰れAutoChauffeur\n",
    "完全なる自動運転FullAutonomy\n",
    "\n",
    "障害物があることを認識するのではなく、\n",
    "安全なスペースをリアルタイムで認識しながら運転する。\n",
    "\n",
    "AIの頭脳が何を認識しているのかを表示し、\n",
    "サイドミラーは必要なし。\n",
    "色んな視野から把握できる。\n",
    "\n",
    "ネットワークに対してハンドリングを自動車が学習する。\n",
    "一切情報をあたえない。\n",
    "BB８は勝手に学習する。\n",
    "レーンマーカーがなくてもOK\n",
    "BB8のみているもの\n",
    "ハンドル操作で必要なことをかッテに干出する。\n",
    "田舎でもかってに茂みを認識している、\n",
    "\n",
    "BAIDU TOMTOM　が自律走行車開発でNVIDISAを選択\n",
    "\n",
    "XAVIER \n",
    "AIすーおあーコンピュータSOC\n",
    "\n",
    "\n"
   ]
  },
  {
   "cell_type": "markdown",
   "metadata": {},
   "source": [
    "\n",
    "## Visialization 医療への貢献\n",
    "EIzo\n",
    "### 診断方法の変化\n",
    "- データの取扱の簡素化\n",
    "- 処理時間の削減\n",
    "- 保管の簡素化\n",
    "\n",
    "PACSシステムで情報を管理運用している。\n",
    "\n",
    "### 続纓（診断する画像数）が増加している。\n",
    "画像（情報）が増えている。\n",
    "\n",
    "ティアリング（更新線）がでてしまうので高性能\n",
    "\n",
    "## 大規模進化計算による音声認識システム開発の自動化\n",
    "東京工業大学\n",
    "篠崎たかお\n",
    "音声認識\n",
    "\n",
    "特徴量抽出　→　音響モデル＋言語モデル   \n",
    "言語モデル：単語の並び方\n",
    "\n",
    "音響モデルFF-DNN\n",
    "\n",
    "### 音声分野で教師データはどう与えるのか\n",
    "音響　RBM →DNN →　   \n",
    "言語　RNN   \n",
    "最新GPGPUを用いて数日〜数ヶ月\n",
    "\n",
    "NNの構造をどのようにすればいいのかは試行錯誤的   \n",
    "→進化計算による自動チューニング   \n",
    "→共分散行列適応進化戦略(CMA^ES)\n",
    "\n",
    "認識性能・計算性能を評価→パレート最適\n",
    "\n",
    "学習データ240時間ツバメ\n",
    "\n",
    "## 日立の人工知能への取り組み\n",
    "日立\n",
    "清水正明\n",
    "Iot・クラウドサービス事業部　HPCソリューションセンタ\n",
    "\n",
    "満員＋立見多数 （200人くらい？）\n",
    "\n",
    "社会インフラなどの多くの分野で、DNNに置き換わりつつある\n",
    "### 人多い\n",
    "日立の特徴\n",
    "既存システムをモニタリング・制御するシステム\n",
    "人工知能H\n",
    "\n",
    "レゴでブランコをふる装置\n",
    "1分でブランコを焦げる\n",
    "人より漕げることを思いつく。\n",
    "\n",
    "利益などに関するデータは少量のため、\n",
    "跳躍学習\n",
    "店員さんがいる場所\n",
    "物流の置き場を毎日変える\n",
    "コールセンターの人に休み時間に声がけをする。\n",
    "→気づかない！\n",
    "### 柔軟な文化\n",
    "\n",
    "経営判断をYES/NOどちらの意見も言ってくれる。\n",
    "数十秒で結果出る。\n",
    "新聞データ、経済白書などのデータベースを利用。\n",
    "\n",
    "### 柔軟。自社の情報をいかに利用可能な状態で保存していたかが重要になる。\n",
    "### CADなど、なるべく早く蓄積開始せねば\n",
    "\n",
    "類似画像検索を20年くらいやっている。\n",
    "\n",
    "鯛雑音の音声認識。複数のマイクを使うことでより強く。\n",
    "\n",
    "高次元医療データの分析\n",
    "\n",
    "動線予測（船舶の奇跡データから）\n",
    "AIS航跡データを過去遡って実施。\n",
    "\n",
    "### 結構オープンデータをつかっているという印象。\n",
    "船舶chainerを使って予測。\n",
    "### 意外に追いつける？\n",
    "渋滞を避けるための最適化\n",
    "危険の予測と回避方法の検討\n",
    "\n",
    "計算機について\n",
    "DGX-1\n",
    "Testla\n",
    "\n",
    "\n",
    "## MATLABで始めるGPUコンピューティング\n",
    "MathWorks Japan\n",
    "太田英司\n",
    "\n",
    "MATLAB書くコードが少ない\n",
    "parallel computing toolbox\n",
    "\n",
    "toolboxの高速化に関して\n",
    "\n",
    "\n",
    "１．GPUArray\n",
    "\n",
    "GX = gpuArray(X);\n",
    "GY = fft2(GY);\n",
    "Y = gather(GY);\n",
    "\n",
    "フィルターの高速化\n",
    "→さっきの分を加えるだけ\n",
    "\n",
    "スペクトル法の高速化（波動方程式）\n",
    "→gpuArray()で変換\n",
    "\n",
    "２．関数のオプションを追加する\n",
    " .....,'useGPU')\n",
    " \n",
    "３．もともと使うようになっている。\n",
    "CNNとか\n",
    "\n",
    "CNNも10行で書ける。\n",
    "\n",
    "## irayを活用した新しい建築設計\n",
    "博報堂プロダクツ\n",
    "\n",
    "CGの専門家230人が集結している\n",
    "レンダリング等の道具の整理\n",
    "\n",
    "Iray for max（Iray+）でレンダリング\n",
    "Mterial Definision Language　材料定義言語\n",
    "vMaterialでマテリアルを選ぶ\n",
    "Iray server + VCA\n",
    "\n",
    "## 時系列センサデータのDeep learningによる異常検知\n",
    "マクニカクラビスカンパニー（技術商社）\n",
    "ディープラーニングは素人\n",
    "\n",
    "ロボッと、工作機械、モーターなど時系列データDNNで異常検知\n",
    "jetson tx1 教師あり\n",
    "\n",
    "エッジコンピューティング；問題が顕在化する前に対応\n",
    "組み込みGPUに高い将来性を感じる。\n",
    "故障検知・余地システム\n",
    "\n",
    "モータの異常を検知する予知システムを構築した。\n",
    "（専門家のコンサルタントに相談した。）\n",
    "\n",
    "DNNモデルの構築はCafeeを使っ構築した・\n",
    "CAVIS　ABeamConsulting\n",
    "\n",
    "データの取得と加工、デモづくり\n",
    "ISOの規定から不具合例を洗い出した。\n",
    "→周波数分析が必要。FFTかけてDNNした。\n",
    "モータに加速度センサーが取り付けてあった。\n",
    "STFFT：512ptのFFTかけている。\n",
    "マイコンボードに受け、JetsonTX1におくって処理する。\n",
    "教師データ：自分で手作業で異常を記入する。\n",
    "\n",
    "### まずこのレベルでやってみてはどうか\n",
    "\n",
    "## Deep learning for Industry\n",
    "クロスコンパス・インテリジェンス\n",
    "2011東工大発ベンチャー\n",
    "AIの駆け込み寺（日経テクノロジー）\n",
    "\n",
    "60件の実績\n",
    "\n",
    "画像・音声・時系列異常検知・言語処理\n",
    "\n",
    "1. ニーズをしっかり捉える\n",
    "- NNの構築ノウハウを選んで選ぶ→共有したい\n",
    "- データ学習\n",
    "- 学習済みのNNを作るとたくさん活用できる。\n",
    "- サーバから組み込みまで色んなプラットフォームで動く\n",
    "\n",
    "学習データを共有したい:IX\n",
    "\n",
    "データ多すぎる。\n",
    "→エッジでコンピューティングする必要がある。\n",
    "\n",
    "ほとんどボタンを押すだけ！をめざす。\n",
    "\n",
    "異常な可能性があれば異常→人間の判断が必要\n",
    "\n",
    "LSTM：マイコンで判断\n",
    "\n",
    "\n",
    "\n",
    "\n",
    "\n",
    "\n",
    "\n"
   ]
  },
  {
   "cell_type": "code",
   "execution_count": 4,
   "metadata": {
    "collapsed": false
   },
   "outputs": [
    {
     "data": {
      "text/plain": [
       "x**5 + 5*x**4*y + 10*x**3*y**2 + 10*x**2*y**3 + 5*x*y**4 + y**5"
      ]
     },
     "execution_count": 4,
     "metadata": {},
     "output_type": "execute_result"
    }
   ],
   "source": [
    "from sympy import *\n",
    "matplotlib inline\n",
    "x, y = symbols(\"x y\")\n",
    "\n",
    "expr = (x + y)**5\n",
    "expand(expr)"
   ]
  },
  {
   "cell_type": "code",
   "execution_count": 5,
   "metadata": {
    "collapsed": true
   },
   "outputs": [],
   "source": [
    "from sympy.interactive import printing\n",
    "printing.init_printing(use_latex=True)"
   ]
  },
  {
   "cell_type": "code",
   "execution_count": 6,
   "metadata": {
    "collapsed": false
   },
   "outputs": [
    {
     "name": "stderr",
     "output_type": "stream",
     "text": [
      "/opt/conda/lib/python3.5/site-packages/matplotlib/font_manager.py:273: UserWarning: Matplotlib is building the font cache using fc-list. This may take a moment.\n",
      "  warnings.warn('Matplotlib is building the font cache using fc-list. This may take a moment.')\n",
      "/opt/conda/lib/python3.5/site-packages/matplotlib/font_manager.py:273: UserWarning: Matplotlib is building the font cache using fc-list. This may take a moment.\n",
      "  warnings.warn('Matplotlib is building the font cache using fc-list. This may take a moment.')\n"
     ]
    },
    {
     "data": {
      "image/png": "[encoded data removed]",
      "text/latex": [
       "$$x^{2} - 3 y^{2}$$"
      ],
      "text/plain": [
       " 2      2\n",
       "x  - 3⋅y "
      ]
     },
     "execution_count": 6,
     "metadata": {},
     "output_type": "execute_result"
    }
   ],
   "source": [
    "x ** 2 - 3 * y ** 2"
   ]
  },
  {
   "cell_type": "code",
   "execution_count": 7,
   "metadata": {
    "collapsed": false
   },
   "outputs": [
    {
     "data": {
      "image/png": "[encoded data removed]",
      "text/latex": [
       "$$\\operatorname{atan}{\\left (x \\right )}$$"
      ],
      "text/plain": [
       "atan(x)"
      ]
     },
     "execution_count": 7,
     "metadata": {},
     "output_type": "execute_result"
    }
   ],
   "source": [
    "integrate(1/(1+x**2), x)"
   ]
  },
  {
   "cell_type": "code",
   "execution_count": 8,
   "metadata": {
    "collapsed": false
   },
   "outputs": [
    {
     "data": {
      "image/png": "[encoded data removed]",
      "text/latex": [
       "$$\\left [ - \\operatorname{acos}{\\left (- \\frac{2}{y \\log{\\left (y \\right )}} \\right )} + 2 \\pi, \\quad \\operatorname{acos}{\\left (- \\frac{2}{y \\log{\\left (y \\right )}} \\right )}\\right ]$$"
      ],
      "text/plain": [
       "⎡      ⎛  -2    ⎞            ⎛  -2    ⎞⎤\n",
       "⎢- acos⎜────────⎟ + 2⋅π, acos⎜────────⎟⎥\n",
       "⎣      ⎝y⋅log(y)⎠            ⎝y⋅log(y)⎠⎦"
      ]
     },
     "execution_count": 8,
     "metadata": {},
     "output_type": "execute_result"
    }
   ],
   "source": [
    "expr = cos(x) * ln(y) + 2/y\n",
    "solve(expr, x)"
   ]
  },
  {
   "cell_type": "code",
   "execution_count": null,
   "metadata": {
    "collapsed": true
   },
   "outputs": [],
   "source": []
  }
 ],
 "metadata": {
  "kernelspec": {
   "display_name": "Python 3",
   "language": "python",
   "name": "python3"
  },
  "language_info": {
   "codemirror_mode": {
    "name": "ipython",
    "version": 3
   },
   "file_extension": ".py",
   "mimetype": "text/x-python",
   "name": "python",
   "nbconvert_exporter": "python",
   "pygments_lexer": "ipython3",
   "version": "3.5.2"
  }
 },
 "nbformat": 4,
 "nbformat_minor": 0
}
